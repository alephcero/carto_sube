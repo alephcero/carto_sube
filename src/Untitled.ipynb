{
 "cells": [
  {
   "cell_type": "code",
   "execution_count": 1,
   "metadata": {},
   "outputs": [],
   "source": [
    "import geopandas as gpd\n",
    "import matplotlib.pyplot as plt\n",
    "%matplotlib inline"
   ]
  },
  {
   "cell_type": "code",
   "execution_count": 2,
   "metadata": {},
   "outputs": [],
   "source": [
    "dptos = gpd.read_file('../carto/deptos/departamentos.shp')\n",
    "grid = gpd.read_file('../carto/grilla/GrillaHexPB.shp')\n",
    "\n",
    "#dptos = gpd.read_file('../carto/d.shp')\n",
    "#grid = gpd.read_file('../carto/g.shp')\n"
   ]
  },
  {
   "cell_type": "code",
   "execution_count": 3,
   "metadata": {},
   "outputs": [
    {
     "data": {
      "text/html": [
       "<div>\n",
       "<style scoped>\n",
       "    .dataframe tbody tr th:only-of-type {\n",
       "        vertical-align: middle;\n",
       "    }\n",
       "\n",
       "    .dataframe tbody tr th {\n",
       "        vertical-align: top;\n",
       "    }\n",
       "\n",
       "    .dataframe thead th {\n",
       "        text-align: right;\n",
       "    }\n",
       "</style>\n",
       "<table border=\"1\" class=\"dataframe\">\n",
       "  <thead>\n",
       "    <tr style=\"text-align: right;\">\n",
       "      <th></th>\n",
       "      <th>link</th>\n",
       "      <th>codpcia</th>\n",
       "      <th>departamen</th>\n",
       "      <th>provincia</th>\n",
       "      <th>color_psid</th>\n",
       "      <th>geometry</th>\n",
       "      <th>area_depto</th>\n",
       "    </tr>\n",
       "  </thead>\n",
       "  <tbody>\n",
       "    <tr>\n",
       "      <th>0</th>\n",
       "      <td>06035</td>\n",
       "      <td>06</td>\n",
       "      <td>Avellaneda</td>\n",
       "      <td>Buenos Aires</td>\n",
       "      <td>2</td>\n",
       "      <td>POLYGON ((5652734.281733191 6167138.182415018,...</td>\n",
       "      <td>5.727835e+07</td>\n",
       "    </tr>\n",
       "    <tr>\n",
       "      <th>1</th>\n",
       "      <td>06805</td>\n",
       "      <td>06</td>\n",
       "      <td>Tigre</td>\n",
       "      <td>Buenos Aires</td>\n",
       "      <td>4</td>\n",
       "      <td>(POLYGON ((5636553.511274694 6203816.275459369...</td>\n",
       "      <td>3.932309e+08</td>\n",
       "    </tr>\n",
       "    <tr>\n",
       "      <th>2</th>\n",
       "      <td>06882</td>\n",
       "      <td>06</td>\n",
       "      <td>ZÃ¡rate</td>\n",
       "      <td>Buenos Aires</td>\n",
       "      <td>4</td>\n",
       "      <td>POLYGON ((5571741.346744739 6258426.326411969,...</td>\n",
       "      <td>1.190238e+09</td>\n",
       "    </tr>\n",
       "    <tr>\n",
       "      <th>3</th>\n",
       "      <td>06427</td>\n",
       "      <td>06</td>\n",
       "      <td>La Matanza</td>\n",
       "      <td>Buenos Aires</td>\n",
       "      <td>3</td>\n",
       "      <td>POLYGON ((5634864.664052583 6164643.855624371,...</td>\n",
       "      <td>3.283928e+08</td>\n",
       "    </tr>\n",
       "    <tr>\n",
       "      <th>4</th>\n",
       "      <td>06560</td>\n",
       "      <td>06</td>\n",
       "      <td>Moreno</td>\n",
       "      <td>Buenos Aires</td>\n",
       "      <td>3</td>\n",
       "      <td>POLYGON ((5607994.058435936 6181191.040708226,...</td>\n",
       "      <td>1.864141e+08</td>\n",
       "    </tr>\n",
       "  </tbody>\n",
       "</table>\n",
       "</div>"
      ],
      "text/plain": [
       "    link codpcia  departamen     provincia  color_psid  \\\n",
       "0  06035      06  Avellaneda  Buenos Aires           2   \n",
       "1  06805      06       Tigre  Buenos Aires           4   \n",
       "2  06882      06     ZÃ¡rate  Buenos Aires           4   \n",
       "3  06427      06  La Matanza  Buenos Aires           3   \n",
       "4  06560      06      Moreno  Buenos Aires           3   \n",
       "\n",
       "                                            geometry    area_depto  \n",
       "0  POLYGON ((5652734.281733191 6167138.182415018,...  5.727835e+07  \n",
       "1  (POLYGON ((5636553.511274694 6203816.275459369...  3.932309e+08  \n",
       "2  POLYGON ((5571741.346744739 6258426.326411969,...  1.190238e+09  \n",
       "3  POLYGON ((5634864.664052583 6164643.855624371,...  3.283928e+08  \n",
       "4  POLYGON ((5607994.058435936 6181191.040708226,...  1.864141e+08  "
      ]
     },
     "execution_count": 3,
     "metadata": {},
     "output_type": "execute_result"
    }
   ],
   "source": [
    "dptos = dptos.to_crs(epsg=5347)\n",
    "grid = grid.to_crs(epsg=5347)\n",
    "dptos['area_depto'] = dptos.geometry.area\n",
    "grid['area_grid'] = grid.geometry.area\n",
    "dptos.head()"
   ]
  },
  {
   "cell_type": "code",
   "execution_count": null,
   "metadata": {},
   "outputs": [],
   "source": [
    "#f,ax = plt.subplots(figsize=(8,8))\n",
    "#dptos.plot(ax=ax,linewidth=0.8,edgecolor='red', facecolor='grey',)\n",
    "#grid.plot(ax=ax,color = 'blue',alpha=0.5)"
   ]
  },
  {
   "cell_type": "code",
   "execution_count": 4,
   "metadata": {},
   "outputs": [
    {
     "data": {
      "text/html": [
       "<div>\n",
       "<style scoped>\n",
       "    .dataframe tbody tr th:only-of-type {\n",
       "        vertical-align: middle;\n",
       "    }\n",
       "\n",
       "    .dataframe tbody tr th {\n",
       "        vertical-align: top;\n",
       "    }\n",
       "\n",
       "    .dataframe thead th {\n",
       "        text-align: right;\n",
       "    }\n",
       "</style>\n",
       "<table border=\"1\" class=\"dataframe\">\n",
       "  <thead>\n",
       "    <tr style=\"text-align: right;\">\n",
       "      <th></th>\n",
       "      <th></th>\n",
       "      <th>WKT</th>\n",
       "      <th>id</th>\n",
       "      <th>area_grid</th>\n",
       "      <th>link</th>\n",
       "      <th>codpcia</th>\n",
       "      <th>departamen</th>\n",
       "      <th>provincia</th>\n",
       "      <th>color_psid</th>\n",
       "      <th>area_depto</th>\n",
       "      <th>area_union</th>\n",
       "      <th>peso</th>\n",
       "    </tr>\n",
       "    <tr>\n",
       "      <th>id</th>\n",
       "      <th></th>\n",
       "      <th></th>\n",
       "      <th></th>\n",
       "      <th></th>\n",
       "      <th></th>\n",
       "      <th></th>\n",
       "      <th></th>\n",
       "      <th></th>\n",
       "      <th></th>\n",
       "      <th></th>\n",
       "      <th></th>\n",
       "      <th></th>\n",
       "    </tr>\n",
       "  </thead>\n",
       "  <tbody>\n",
       "    <tr>\n",
       "      <th>12841912.0</th>\n",
       "      <th>331500</th>\n",
       "      <td>MULTIPOLYGON (((-60.2079316412608 -34.06080769...</td>\n",
       "      <td>12841912.0</td>\n",
       "      <td>309579.798230</td>\n",
       "      <td>06714</td>\n",
       "      <td>06</td>\n",
       "      <td>Salto</td>\n",
       "      <td>Buenos Aires</td>\n",
       "      <td>1.0</td>\n",
       "      <td>1.604665e+09</td>\n",
       "      <td>309579.798230</td>\n",
       "      <td>1.0</td>\n",
       "    </tr>\n",
       "    <tr>\n",
       "      <th>12841913.0</th>\n",
       "      <th>331496</th>\n",
       "      <td>MULTIPOLYGON (((-60.2075642400061 -34.06618911...</td>\n",
       "      <td>12841913.0</td>\n",
       "      <td>309579.790700</td>\n",
       "      <td>06714</td>\n",
       "      <td>06</td>\n",
       "      <td>Salto</td>\n",
       "      <td>Buenos Aires</td>\n",
       "      <td>1.0</td>\n",
       "      <td>1.604665e+09</td>\n",
       "      <td>309579.790700</td>\n",
       "      <td>1.0</td>\n",
       "    </tr>\n",
       "    <tr>\n",
       "      <th>12841914.0</th>\n",
       "      <th>331497</th>\n",
       "      <td>MULTIPOLYGON (((-60.2071967412536 -34.07157053...</td>\n",
       "      <td>12841914.0</td>\n",
       "      <td>309579.783197</td>\n",
       "      <td>06714</td>\n",
       "      <td>06</td>\n",
       "      <td>Salto</td>\n",
       "      <td>Buenos Aires</td>\n",
       "      <td>1.0</td>\n",
       "      <td>1.604665e+09</td>\n",
       "      <td>309579.783197</td>\n",
       "      <td>1.0</td>\n",
       "    </tr>\n",
       "    <tr>\n",
       "      <th>12841915.0</th>\n",
       "      <th>331498</th>\n",
       "      <td>MULTIPOLYGON (((-60.2068291449782 -34.07695194...</td>\n",
       "      <td>12841915.0</td>\n",
       "      <td>309579.775702</td>\n",
       "      <td>06714</td>\n",
       "      <td>06</td>\n",
       "      <td>Salto</td>\n",
       "      <td>Buenos Aires</td>\n",
       "      <td>1.0</td>\n",
       "      <td>1.604665e+09</td>\n",
       "      <td>309579.775702</td>\n",
       "      <td>1.0</td>\n",
       "    </tr>\n",
       "    <tr>\n",
       "      <th>12841916.0</th>\n",
       "      <th>331499</th>\n",
       "      <td>MULTIPOLYGON (((-60.2064614511552 -34.08233335...</td>\n",
       "      <td>12841916.0</td>\n",
       "      <td>309579.768231</td>\n",
       "      <td>06714</td>\n",
       "      <td>06</td>\n",
       "      <td>Salto</td>\n",
       "      <td>Buenos Aires</td>\n",
       "      <td>1.0</td>\n",
       "      <td>1.604665e+09</td>\n",
       "      <td>309579.768231</td>\n",
       "      <td>1.0</td>\n",
       "    </tr>\n",
       "  </tbody>\n",
       "</table>\n",
       "</div>"
      ],
      "text/plain": [
       "                                                                 WKT  \\\n",
       "id                                                                     \n",
       "12841912.0 331500  MULTIPOLYGON (((-60.2079316412608 -34.06080769...   \n",
       "12841913.0 331496  MULTIPOLYGON (((-60.2075642400061 -34.06618911...   \n",
       "12841914.0 331497  MULTIPOLYGON (((-60.2071967412536 -34.07157053...   \n",
       "12841915.0 331498  MULTIPOLYGON (((-60.2068291449782 -34.07695194...   \n",
       "12841916.0 331499  MULTIPOLYGON (((-60.2064614511552 -34.08233335...   \n",
       "\n",
       "                           id      area_grid   link codpcia departamen  \\\n",
       "id                                                                       \n",
       "12841912.0 331500  12841912.0  309579.798230  06714      06      Salto   \n",
       "12841913.0 331496  12841913.0  309579.790700  06714      06      Salto   \n",
       "12841914.0 331497  12841914.0  309579.783197  06714      06      Salto   \n",
       "12841915.0 331498  12841915.0  309579.775702  06714      06      Salto   \n",
       "12841916.0 331499  12841916.0  309579.768231  06714      06      Salto   \n",
       "\n",
       "                      provincia  color_psid    area_depto     area_union  peso  \n",
       "id                                                                              \n",
       "12841912.0 331500  Buenos Aires         1.0  1.604665e+09  309579.798230   1.0  \n",
       "12841913.0 331496  Buenos Aires         1.0  1.604665e+09  309579.790700   1.0  \n",
       "12841914.0 331497  Buenos Aires         1.0  1.604665e+09  309579.783197   1.0  \n",
       "12841915.0 331498  Buenos Aires         1.0  1.604665e+09  309579.775702   1.0  \n",
       "12841916.0 331499  Buenos Aires         1.0  1.604665e+09  309579.768231   1.0  "
      ]
     },
     "execution_count": 4,
     "metadata": {},
     "output_type": "execute_result"
    }
   ],
   "source": [
    "tabla = gpd.overlay(grid,dptos,how='union').drop_duplicates(subset=['id','area_grid','link','departamen','area_depto'])\n",
    "tabla['area_union'] = tabla.geometry.area\n",
    "tabla = tabla.drop('geometry',axis=1)\n",
    "tabla['peso'] = tabla['area_union'] / tabla['area_grid']\n",
    "tabla = tabla.sort_values(by=['id','peso'],ascending=False)\n",
    "tabla = tabla.groupby('id').apply(lambda t: t.drop_duplicates(subset=['id'], keep='first'))\n",
    "\n",
    "tabla.head()"
   ]
  },
  {
   "cell_type": "code",
   "execution_count": 5,
   "metadata": {},
   "outputs": [],
   "source": [
    "tabla.to_csv('grilla_x_depto.csv',index=False)"
   ]
  },
  {
   "cell_type": "code",
   "execution_count": 9,
   "metadata": {},
   "outputs": [],
   "source": [
    "tabla2 = tabla.reindex(columns=['id','link','codpcia','departamen','provincia']).reset_index(drop=True)"
   ]
  },
  {
   "cell_type": "code",
   "execution_count": 10,
   "metadata": {},
   "outputs": [
    {
     "data": {
      "text/plain": [
       "(110151, 5)"
      ]
     },
     "execution_count": 10,
     "metadata": {},
     "output_type": "execute_result"
    }
   ],
   "source": [
    "tabla2.shape"
   ]
  },
  {
   "cell_type": "code",
   "execution_count": 12,
   "metadata": {},
   "outputs": [],
   "source": [
    "grid2 = grid.merge(tabla2,on='id',how='left')"
   ]
  },
  {
   "cell_type": "code",
   "execution_count": 15,
   "metadata": {},
   "outputs": [
    {
     "data": {
      "text/plain": [
       "847"
      ]
     },
     "execution_count": 15,
     "metadata": {},
     "output_type": "execute_result"
    }
   ],
   "source": [
    "tabla2.departamen.isnull().sum()"
   ]
  },
  {
   "cell_type": "code",
   "execution_count": 16,
   "metadata": {},
   "outputs": [],
   "source": [
    "grid2.to_file('grilla_con_depto')"
   ]
  },
  {
   "cell_type": "code",
   "execution_count": null,
   "metadata": {},
   "outputs": [],
   "source": []
  }
 ],
 "metadata": {
  "kernelspec": {
   "display_name": "Python 3",
   "language": "python",
   "name": "python3"
  },
  "language_info": {
   "codemirror_mode": {
    "name": "ipython",
    "version": 3
   },
   "file_extension": ".py",
   "mimetype": "text/x-python",
   "name": "python",
   "nbconvert_exporter": "python",
   "pygments_lexer": "ipython3",
   "version": "3.7.3"
  }
 },
 "nbformat": 4,
 "nbformat_minor": 2
}
